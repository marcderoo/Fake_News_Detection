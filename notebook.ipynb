{
 "cells": [
  {
   "cell_type": "code",
   "execution_count": 3,
   "metadata": {},
   "outputs": [],
   "source": [
    "# Importation des bibliothèques nécessaires\n",
    "import os\n",
    "import pickle\n",
    "import pandas as pd\n",
    "from sklearn.svm import SVC\n",
    "from sklearn.ensemble import RandomForestClassifier\n",
    "from sklearn.linear_model import LogisticRegression\n",
    "from sklearn.metrics import accuracy_score, classification_report, confusion_matrix\n",
    "from sklearn.feature_extraction.text import TfidfVectorizer"
   ]
  },
  {
   "cell_type": "code",
   "execution_count": 4,
   "metadata": {},
   "outputs": [],
   "source": [
    "# Étape 1 : Chargement des données (simplifié ici)\n",
    "def load_isot_dataset(fake_file, true_file):\n",
    "    \"\"\"Charge les fichiers de données et retourne un DataFrame pour les données de fausses et vraies nouvelles.\"\"\"\n",
    "    fake_data = pd.read_csv(fake_file)\n",
    "    true_data = pd.read_csv(true_file)\n",
    "    \n",
    "    fake_data['label'] = 0  # Label 0 pour les fausses nouvelles\n",
    "    true_data['label'] = 1  # Label 1 pour les vraies nouvelles\n",
    "    \n",
    "    return pd.concat([fake_data, true_data], ignore_index=True)\n",
    "\n",
    "# Exemple de chargement de données (remplacez par vos vrais fichiers)\n",
    "train_data = load_isot_dataset(\"data/Fake.csv\", \"data/True.csv\")\n",
    "\n",
    "# Diviser les données en caractéristiques (X) et labels (y)\n",
    "X = train_data[\"text\"]  # Le texte des articles\n",
    "y = train_data[\"label\"]  # Les labels (0 ou 1)"
   ]
  },
  {
   "cell_type": "code",
   "execution_count": 5,
   "metadata": {},
   "outputs": [],
   "source": [
    "# Étape 2 : Prétraitement et extraction des caractéristiques\n",
    "def extract_tfidf_features(X_train, X_test):\n",
    "    \"\"\"Extrait les caractéristiques TF-IDF des jeux de données.\"\"\"\n",
    "    vectorizer = TfidfVectorizer(stop_words='english', max_features=5000)\n",
    "    X_train_tfidf = vectorizer.fit_transform(X_train)\n",
    "    X_test_tfidf = vectorizer.transform(X_test)\n",
    "    return X_train_tfidf, X_test_tfidf\n",
    "\n",
    "# Séparer les données en entraînement et test\n",
    "from sklearn.model_selection import train_test_split\n",
    "X_train, X_test, y_train, y_test = train_test_split(X, y, test_size=0.2, random_state=42)\n",
    "\n",
    "# Extraire les caractéristiques TF-IDF\n",
    "X_train_tfidf, X_test_tfidf = extract_tfidf_features(X_train, X_test)"
   ]
  },
  {
   "cell_type": "code",
   "execution_count": 10,
   "metadata": {},
   "outputs": [],
   "source": [
    "# Étape 3 : Entraîner et sauvegarder un modèle\n",
    "def train_model(X_train, y_train, model_type=\"svm\"):\n",
    "    \"\"\"Entraîne un modèle classique et sauvegarde le modèle.\"\"\"\n",
    "    if model_type == \"svm\":\n",
    "        model = SVC(kernel=\"linear\")\n",
    "    elif model_type == \"random_forest\":\n",
    "        model = RandomForestClassifier(n_estimators=100)\n",
    "    elif model_type == \"logistic_regression\":\n",
    "        model = LogisticRegression()\n",
    "\n",
    "    model.fit(X_train, y_train)\n",
    "\n",
    "    # Création du dossier 'models' s'il n'existe pas\n",
    "    os.makedirs(\"models\", exist_ok=True)\n",
    "\n",
    "    # Sauvegarde du modèle\n",
    "    with open(f\"models/{model_type}.pkl\", \"wb\") as f:\n",
    "        pickle.dump(model, f)\n",
    "\n",
    "    return model\n",
    "\n",
    "# Entraîner un modèle SVM (par exemple)\n",
    "model = train_model(X_train_tfidf, y_train, model_type=\"logistic_regression\")"
   ]
  },
  {
   "cell_type": "code",
   "execution_count": 11,
   "metadata": {},
   "outputs": [
    {
     "name": "stdout",
     "output_type": "stream",
     "text": [
      "Accuracy: 0.9858574610244989\n",
      "Classification Report:\n",
      "               precision    recall  f1-score   support\n",
      "\n",
      "           0       0.99      0.98      0.99      4733\n",
      "           1       0.98      0.99      0.99      4247\n",
      "\n",
      "    accuracy                           0.99      8980\n",
      "   macro avg       0.99      0.99      0.99      8980\n",
      "weighted avg       0.99      0.99      0.99      8980\n",
      "\n",
      "Confusion Matrix:\n",
      " [[4657   76]\n",
      " [  51 4196]]\n"
     ]
    }
   ],
   "source": [
    "# Étape 4 : Charger et évaluer le modèle\n",
    "def evaluate_model(X_test, y_test, model_path):\n",
    "    \"\"\"Évalue un modèle chargé depuis un fichier.\"\"\"\n",
    "    try:\n",
    "        with open(model_path, \"rb\") as f:\n",
    "            model = pickle.load(f)\n",
    "    except FileNotFoundError:\n",
    "        print(f\"Erreur : fichier {model_path} introuvable.\")\n",
    "        return\n",
    "\n",
    "    y_pred = model.predict(X_test)\n",
    "\n",
    "    print(\"Accuracy:\", accuracy_score(y_test, y_pred))\n",
    "    print(\"Classification Report:\\n\", classification_report(y_test, y_pred))\n",
    "    print(\"Confusion Matrix:\\n\", confusion_matrix(y_test, y_pred))\n",
    "\n",
    "# Évaluer le modèle sur les données de test\n",
    "evaluate_model(X_test_tfidf, y_test, \"models/logistic_regression.pkl\")"
   ]
  }
 ],
 "metadata": {
  "kernelspec": {
   "display_name": "Python 3",
   "language": "python",
   "name": "python3"
  },
  "language_info": {
   "codemirror_mode": {
    "name": "ipython",
    "version": 3
   },
   "file_extension": ".py",
   "mimetype": "text/x-python",
   "name": "python",
   "nbconvert_exporter": "python",
   "pygments_lexer": "ipython3",
   "version": "3.10.11"
  }
 },
 "nbformat": 4,
 "nbformat_minor": 2
}
